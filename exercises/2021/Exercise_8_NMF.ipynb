{
 "cells": [
  {
   "cell_type": "markdown",
   "metadata": {},
   "source": [
    "# Non-Negative Matrix Factorization (NMF) vs PCA"
   ]
  },
  {
   "cell_type": "markdown",
   "metadata": {},
   "source": [
    "## Setup\n",
    "1. Download the [CBCL faces dataset](http://www.ai.mit.edu/courses/6.899/lectures/faces.tar.gz) and extract `face.train.tar.gz` to the same directory as this notebook.\n",
    "2. Make sure that you have a working PyTorch setup (this is what we will use in this notebook)."
   ]
  },
  {
   "cell_type": "code",
   "execution_count": 1,
   "metadata": {},
   "outputs": [
    {
     "name": "stdout",
     "output_type": "stream",
     "text": [
      "Loaded 2429 images of size 19 x 19\n"
     ]
    },
    {
     "data": {
      "text/plain": [
       "torch.Size([361, 2429])"
      ]
     },
     "execution_count": 1,
     "metadata": {},
     "output_type": "execute_result"
    }
   ],
   "source": [
    "import glob\n",
    "import numpy as np\n",
    "import torch\n",
    "from PIL import Image\n",
    "\n",
    "# Prepare data matrix X\n",
    "images = []\n",
    "for file in glob.glob('train/face/*.pgm'):\n",
    "    images.append(torch.FloatTensor(np.array(Image.open(file))))\n",
    "    \n",
    "X = torch.stack(images, dim=-1)\n",
    "print(f'Loaded {X.shape[2]} images of size {X.shape[0]} x {X.shape[1]}')\n",
    "img_size = X.shape[:2]\n",
    "X = X.flatten(0, 1) # Unroll each 2D image into a 1D vector\n",
    "X /= 255 # Normalize in [0, 1]\n",
    "\n",
    "X.shape"
   ]
  },
  {
   "cell_type": "markdown",
   "metadata": {},
   "source": [
    "## NMF"
   ]
  },
  {
   "cell_type": "code",
   "execution_count": null,
   "metadata": {
    "scrolled": true
   },
   "outputs": [],
   "source": [
    "import torch.optim as optim\n",
    "import torch.nn as nn\n",
    "import math\n",
    "\n",
    "K = 49 # Number of features\n",
    "\n",
    "# Initialize W and Z from a uniform distribution U(0, 1)\n",
    "# Additionally, the matrices are scaled by 1/sqrt(K) to make the variance of the resulting product independent of K\n",
    "W = torch.rand(X.shape[0], K).mul_(1/math.sqrt(K)).requires_grad_()\n",
    "Z = torch.rand(X.shape[1], K).mul_(1/math.sqrt(K)).requires_grad_()\n",
    "\n",
    "# Write PyTorch code...."
   ]
  },
  {
   "cell_type": "markdown",
   "metadata": {},
   "source": [
    "# PCA"
   ]
  },
  {
   "cell_type": "code",
   "execution_count": null,
   "metadata": {
    "scrolled": true
   },
   "outputs": [],
   "source": [
    "import torch.optim as optim\n",
    "import torch.nn as nn\n",
    "import math\n",
    "\n",
    "K = 49 # Number of features\n",
    "\n",
    "# Initialize W and Z from a uniform distribution U(0, 1)\n",
    "W = torch.rand(X.shape[0], K).mul_(1/math.sqrt(K)).requires_grad_()\n",
    "Z = torch.rand(X.shape[1], K).mul_(1/math.sqrt(K)).requires_grad_()\n",
    "\n",
    "# Write PyTorch code...."
   ]
  }
 ],
 "metadata": {
  "kernelspec": {
   "display_name": "Python 3",
   "language": "python",
   "name": "python3"
  },
  "language_info": {
   "codemirror_mode": {
    "name": "ipython",
    "version": 3
   },
   "file_extension": ".py",
   "mimetype": "text/x-python",
   "name": "python",
   "nbconvert_exporter": "python",
   "pygments_lexer": "ipython3",
   "version": "3.6.5"
  }
 },
 "nbformat": 4,
 "nbformat_minor": 4
}
